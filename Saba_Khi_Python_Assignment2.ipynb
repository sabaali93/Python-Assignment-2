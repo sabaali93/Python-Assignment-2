{
 "cells": [
  {
   "cell_type": "code",
   "execution_count": 2,
   "metadata": {
    "collapsed": true
   },
   "outputs": [],
   "source": [
    "import pandas as pd\n",
    "import matplotlib.pyplot as plt\n",
    "data = pd.read_csv('C:/Users/saba.ali/Desktop/Saba/hospitaldata.csv')"
   ]
  },
  {
   "cell_type": "code",
   "execution_count": 3,
   "metadata": {
    "collapsed": true
   },
   "outputs": [],
   "source": [
    "#Question 1\n",
    "\n",
    "col = data.columns\n",
    "col = [c.replace(\".\", \"\") for c in col]\n",
    "data.columns = col"
   ]
  },
  {
   "cell_type": "code",
   "execution_count": 4,
   "metadata": {
    "collapsed": false
   },
   "outputs": [
    {
     "data": {
      "text/plain": [
       "{'Friday': 26,\n",
       " 'Monday': 51,\n",
       " 'Saturday': 20,\n",
       " 'Sunday': 7,\n",
       " 'Thursday': 33,\n",
       " 'Tuesday': 42,\n",
       " 'Wednesday': 43}"
      ]
     },
     "execution_count": 4,
     "metadata": {},
     "output_type": "execute_result"
    }
   ],
   "source": [
    "#Question 2\n",
    "\n",
    "days = []\n",
    "for i in data.Date:\n",
    "    days.append(i.split(\",\")[0])\n",
    "\n",
    "count = {}\n",
    "for i in days:\n",
    "    if i in count.keys():\n",
    "        count[i] +=1\n",
    "    else:\n",
    "        count[i] = 1\n",
    "count"
   ]
  },
  {
   "cell_type": "code",
   "execution_count": 5,
   "metadata": {
    "collapsed": false
   },
   "outputs": [
    {
     "name": "stdout",
     "output_type": "stream",
     "text": [
      "28.0\n"
     ]
    }
   ],
   "source": [
    "#Question 3\n",
    "\n",
    "data.Age = pd.to_numeric(data.Age,errors='coerce')\n",
    "data.Age = data.Age.fillna(0)\n",
    "print(round(data.Age.mean(),0))"
   ]
  },
  {
   "cell_type": "code",
   "execution_count": 6,
   "metadata": {
    "collapsed": false
   },
   "outputs": [
    {
     "data": {
      "text/plain": [
       "23"
      ]
     },
     "execution_count": 6,
     "metadata": {},
     "output_type": "execute_result"
    }
   ],
   "source": [
    "#Question 4\n",
    "\n",
    "child = 0\n",
    "for i in data.Age:\n",
    "    if i >=1 and i <=12:\n",
    "        child +=1\n",
    "child"
   ]
  },
  {
   "cell_type": "code",
   "execution_count": 7,
   "metadata": {
    "collapsed": false
   },
   "outputs": [
    {
     "name": "stdout",
     "output_type": "stream",
     "text": [
      "Male: Consultation\n",
      "Female: Consultation\n"
     ]
    }
   ],
   "source": [
    "#Question 5\n",
    "\n",
    "Male=data[data.Sex=='M']\n",
    "print(\"Male: \" + Male['Procedure'].value_counts().index.tolist()[0])\n",
    "\n",
    "Female=data[data.Sex=='F']\n",
    "print(\"Female: \" + Female['Procedure'].value_counts().index.tolist()[0])"
   ]
  },
  {
   "cell_type": "code",
   "execution_count": 8,
   "metadata": {
    "collapsed": false
   },
   "outputs": [
    {
     "data": {
      "text/html": [
       "<div>\n",
       "<table border=\"1\" class=\"dataframe\">\n",
       "  <thead>\n",
       "    <tr style=\"text-align: right;\">\n",
       "      <th></th>\n",
       "      <th>TotalCharges</th>\n",
       "    </tr>\n",
       "    <tr>\n",
       "      <th>ConsultingDoctor</th>\n",
       "      <th></th>\n",
       "    </tr>\n",
       "  </thead>\n",
       "  <tbody>\n",
       "    <tr>\n",
       "      <th>Brig Asif</th>\n",
       "      <td>2800.0</td>\n",
       "    </tr>\n",
       "    <tr>\n",
       "      <th>Brig Farrukh</th>\n",
       "      <td>3750.0</td>\n",
       "    </tr>\n",
       "    <tr>\n",
       "      <th>Col Ulfat Ellahi</th>\n",
       "      <td>1000.0</td>\n",
       "    </tr>\n",
       "    <tr>\n",
       "      <th>Dr Alaf Khan</th>\n",
       "      <td>513050.0</td>\n",
       "    </tr>\n",
       "    <tr>\n",
       "      <th>Dr Ali</th>\n",
       "      <td>26100.0</td>\n",
       "    </tr>\n",
       "    <tr>\n",
       "      <th>Dr Ammad</th>\n",
       "      <td>1400.0</td>\n",
       "    </tr>\n",
       "    <tr>\n",
       "      <th>Dr Ammara</th>\n",
       "      <td>1500.0</td>\n",
       "    </tr>\n",
       "    <tr>\n",
       "      <th>Dr Fakiha</th>\n",
       "      <td>22600.0</td>\n",
       "    </tr>\n",
       "    <tr>\n",
       "      <th>Dr Irfan</th>\n",
       "      <td>11000.0</td>\n",
       "    </tr>\n",
       "    <tr>\n",
       "      <th>Dr Kinza Alam</th>\n",
       "      <td>76700.0</td>\n",
       "    </tr>\n",
       "    <tr>\n",
       "      <th>Dr Mehwish</th>\n",
       "      <td>1000.0</td>\n",
       "    </tr>\n",
       "    <tr>\n",
       "      <th>Dr Mumtaz</th>\n",
       "      <td>1000.0</td>\n",
       "    </tr>\n",
       "    <tr>\n",
       "      <th>Dr Paul</th>\n",
       "      <td>1500.0</td>\n",
       "    </tr>\n",
       "    <tr>\n",
       "      <th>Dr Qurat ul Ain</th>\n",
       "      <td>20900.0</td>\n",
       "    </tr>\n",
       "    <tr>\n",
       "      <th>Dr Riffat Naheed</th>\n",
       "      <td>18800.0</td>\n",
       "    </tr>\n",
       "    <tr>\n",
       "      <th>Dr Saad</th>\n",
       "      <td>52000.0</td>\n",
       "    </tr>\n",
       "    <tr>\n",
       "      <th>Dr Saad Riaz</th>\n",
       "      <td>5700.0</td>\n",
       "    </tr>\n",
       "    <tr>\n",
       "      <th>Dr Saima Shams</th>\n",
       "      <td>1500.0</td>\n",
       "    </tr>\n",
       "    <tr>\n",
       "      <th>Dr Saniya</th>\n",
       "      <td>4000.0</td>\n",
       "    </tr>\n",
       "    <tr>\n",
       "      <th>Dr Shireen</th>\n",
       "      <td>3200.0</td>\n",
       "    </tr>\n",
       "    <tr>\n",
       "      <th>Dr Waqar Azeem</th>\n",
       "      <td>6000.0</td>\n",
       "    </tr>\n",
       "    <tr>\n",
       "      <th>Dr Zubair</th>\n",
       "      <td>1700.0</td>\n",
       "    </tr>\n",
       "    <tr>\n",
       "      <th>Nursing Staff</th>\n",
       "      <td>9150.0</td>\n",
       "    </tr>\n",
       "  </tbody>\n",
       "</table>\n",
       "</div>"
      ],
      "text/plain": [
       "                  TotalCharges\n",
       "ConsultingDoctor              \n",
       "Brig Asif               2800.0\n",
       "Brig Farrukh            3750.0\n",
       "Col Ulfat Ellahi        1000.0\n",
       "Dr Alaf Khan          513050.0\n",
       "Dr Ali                 26100.0\n",
       "Dr Ammad                1400.0\n",
       "Dr Ammara               1500.0\n",
       "Dr Fakiha              22600.0\n",
       "Dr Irfan               11000.0\n",
       "Dr Kinza Alam          76700.0\n",
       "Dr Mehwish              1000.0\n",
       "Dr Mumtaz               1000.0\n",
       "Dr Paul                 1500.0\n",
       "Dr Qurat ul Ain        20900.0\n",
       "Dr Riffat Naheed       18800.0\n",
       "Dr Saad                52000.0\n",
       "Dr Saad Riaz            5700.0\n",
       "Dr Saima Shams          1500.0\n",
       "Dr Saniya               4000.0\n",
       "Dr Shireen              3200.0\n",
       "Dr Waqar Azeem          6000.0\n",
       "Dr Zubair               1700.0\n",
       "Nursing Staff           9150.0"
      ]
     },
     "execution_count": 8,
     "metadata": {},
     "output_type": "execute_result"
    }
   ],
   "source": [
    "#Question 6\n",
    "\n",
    "data1 = [data.ConsultingDoctor,data.TotalCharges]\n",
    "data1 = pd.DataFrame(data1)\n",
    "data1 = data1.transpose()\n",
    "data1['TotalCharges']=pd.to_numeric(data1['TotalCharges'],errors='coerce')\n",
    "data1.groupby(data1.ConsultingDoctor).sum()"
   ]
  },
  {
   "cell_type": "code",
   "execution_count": 9,
   "metadata": {
    "collapsed": false
   },
   "outputs": [
    {
     "data": {
      "text/html": [
       "<div>\n",
       "<table border=\"1\" class=\"dataframe\">\n",
       "  <thead>\n",
       "    <tr style=\"text-align: right;\">\n",
       "      <th></th>\n",
       "      <th>TotalCharges</th>\n",
       "    </tr>\n",
       "    <tr>\n",
       "      <th>Procedure</th>\n",
       "      <th></th>\n",
       "    </tr>\n",
       "  </thead>\n",
       "  <tbody>\n",
       "    <tr>\n",
       "      <th>22 Unit Bridge</th>\n",
       "      <td>69500.0</td>\n",
       "    </tr>\n",
       "    <tr>\n",
       "      <th>4 Unit Bridge</th>\n",
       "      <td>11000.0</td>\n",
       "    </tr>\n",
       "    <tr>\n",
       "      <th>8 Unit Bridge+2 R.C.T</th>\n",
       "      <td>30000.0</td>\n",
       "    </tr>\n",
       "    <tr>\n",
       "      <th>BSR</th>\n",
       "      <td>50.0</td>\n",
       "    </tr>\n",
       "    <tr>\n",
       "      <th>C Section</th>\n",
       "      <td>65000.0</td>\n",
       "    </tr>\n",
       "    <tr>\n",
       "      <th>Cancelled</th>\n",
       "      <td>NaN</td>\n",
       "    </tr>\n",
       "    <tr>\n",
       "      <th>Consultation</th>\n",
       "      <td>83950.0</td>\n",
       "    </tr>\n",
       "    <tr>\n",
       "      <th>Consultation +   X Ray</th>\n",
       "      <td>3000.0</td>\n",
       "    </tr>\n",
       "    <tr>\n",
       "      <th>Consultation + Dressing</th>\n",
       "      <td>5000.0</td>\n",
       "    </tr>\n",
       "    <tr>\n",
       "      <th>Consultation + Nebulize</th>\n",
       "      <td>1150.0</td>\n",
       "    </tr>\n",
       "    <tr>\n",
       "      <th>Consultation + USG</th>\n",
       "      <td>1500.0</td>\n",
       "    </tr>\n",
       "    <tr>\n",
       "      <th>Consultation+Denture</th>\n",
       "      <td>1500.0</td>\n",
       "    </tr>\n",
       "    <tr>\n",
       "      <th>Consultation+ECG</th>\n",
       "      <td>1300.0</td>\n",
       "    </tr>\n",
       "    <tr>\n",
       "      <th>Consultation+ER Retain</th>\n",
       "      <td>2800.0</td>\n",
       "    </tr>\n",
       "    <tr>\n",
       "      <th>Consultation+Retain</th>\n",
       "      <td>3500.0</td>\n",
       "    </tr>\n",
       "    <tr>\n",
       "      <th>Consultation+USG</th>\n",
       "      <td>1500.0</td>\n",
       "    </tr>\n",
       "    <tr>\n",
       "      <th>Consultation+X Ray</th>\n",
       "      <td>4750.0</td>\n",
       "    </tr>\n",
       "    <tr>\n",
       "      <th>Consultation+x Ray</th>\n",
       "      <td>650.0</td>\n",
       "    </tr>\n",
       "    <tr>\n",
       "      <th>Coupety</th>\n",
       "      <td>300.0</td>\n",
       "    </tr>\n",
       "    <tr>\n",
       "      <th>Crown</th>\n",
       "      <td>20000.0</td>\n",
       "    </tr>\n",
       "    <tr>\n",
       "      <th>Denture+Scalling+Filling</th>\n",
       "      <td>5500.0</td>\n",
       "    </tr>\n",
       "    <tr>\n",
       "      <th>Dressing</th>\n",
       "      <td>2900.0</td>\n",
       "    </tr>\n",
       "    <tr>\n",
       "      <th>Er Retain</th>\n",
       "      <td>300.0</td>\n",
       "    </tr>\n",
       "    <tr>\n",
       "      <th>Extraction</th>\n",
       "      <td>14600.0</td>\n",
       "    </tr>\n",
       "    <tr>\n",
       "      <th>Filling</th>\n",
       "      <td>6500.0</td>\n",
       "    </tr>\n",
       "    <tr>\n",
       "      <th>Filling + X Rays</th>\n",
       "      <td>2600.0</td>\n",
       "    </tr>\n",
       "    <tr>\n",
       "      <th>Injection</th>\n",
       "      <td>1800.0</td>\n",
       "    </tr>\n",
       "    <tr>\n",
       "      <th>Laboratory Test</th>\n",
       "      <td>NaN</td>\n",
       "    </tr>\n",
       "    <tr>\n",
       "      <th>Medicine</th>\n",
       "      <td>100.0</td>\n",
       "    </tr>\n",
       "    <tr>\n",
       "      <th>Operation</th>\n",
       "      <td>50000.0</td>\n",
       "    </tr>\n",
       "    <tr>\n",
       "      <th>Orthodontics</th>\n",
       "      <td>240000.0</td>\n",
       "    </tr>\n",
       "    <tr>\n",
       "      <th>Pharmacy</th>\n",
       "      <td>900.0</td>\n",
       "    </tr>\n",
       "    <tr>\n",
       "      <th>Polishing</th>\n",
       "      <td>500.0</td>\n",
       "    </tr>\n",
       "    <tr>\n",
       "      <th>Pop</th>\n",
       "      <td>3700.0</td>\n",
       "    </tr>\n",
       "    <tr>\n",
       "      <th>R.C.T</th>\n",
       "      <td>15500.0</td>\n",
       "    </tr>\n",
       "    <tr>\n",
       "      <th>R.C.T+Crown</th>\n",
       "      <td>8000.0</td>\n",
       "    </tr>\n",
       "    <tr>\n",
       "      <th>R.C.T+Scalling+Crown</th>\n",
       "      <td>9500.0</td>\n",
       "    </tr>\n",
       "    <tr>\n",
       "      <th>R.P.D + Crown</th>\n",
       "      <td>11000.0</td>\n",
       "    </tr>\n",
       "    <tr>\n",
       "      <th>RCT</th>\n",
       "      <td>3000.0</td>\n",
       "    </tr>\n",
       "    <tr>\n",
       "      <th>RCT (4 teeth) Bridge (9 teeth)</th>\n",
       "      <td>48000.0</td>\n",
       "    </tr>\n",
       "    <tr>\n",
       "      <th>Scalling</th>\n",
       "      <td>16500.0</td>\n",
       "    </tr>\n",
       "    <tr>\n",
       "      <th>Scalling+Polishing</th>\n",
       "      <td>4000.0</td>\n",
       "    </tr>\n",
       "    <tr>\n",
       "      <th>Stiches</th>\n",
       "      <td>700.0</td>\n",
       "    </tr>\n",
       "    <tr>\n",
       "      <th>USG</th>\n",
       "      <td>5500.0</td>\n",
       "    </tr>\n",
       "    <tr>\n",
       "      <th>USG Abdomen</th>\n",
       "      <td>1000.0</td>\n",
       "    </tr>\n",
       "    <tr>\n",
       "      <th>USG KUB</th>\n",
       "      <td>1000.0</td>\n",
       "    </tr>\n",
       "    <tr>\n",
       "      <th>X Ray</th>\n",
       "      <td>5800.0</td>\n",
       "    </tr>\n",
       "  </tbody>\n",
       "</table>\n",
       "</div>"
      ],
      "text/plain": [
       "                                TotalCharges\n",
       "Procedure                                   \n",
       "22 Unit Bridge                       69500.0\n",
       "4 Unit Bridge                        11000.0\n",
       "8 Unit Bridge+2 R.C.T                30000.0\n",
       "BSR                                     50.0\n",
       "C Section                            65000.0\n",
       "Cancelled                                NaN\n",
       "Consultation                         83950.0\n",
       "Consultation +   X Ray                3000.0\n",
       "Consultation + Dressing               5000.0\n",
       "Consultation + Nebulize               1150.0\n",
       "Consultation + USG                    1500.0\n",
       "Consultation+Denture                  1500.0\n",
       "Consultation+ECG                      1300.0\n",
       "Consultation+ER Retain                2800.0\n",
       "Consultation+Retain                   3500.0\n",
       "Consultation+USG                      1500.0\n",
       "Consultation+X Ray                    4750.0\n",
       "Consultation+x Ray                     650.0\n",
       "Coupety                                300.0\n",
       "Crown                                20000.0\n",
       "Denture+Scalling+Filling              5500.0\n",
       "Dressing                              2900.0\n",
       "Er Retain                              300.0\n",
       "Extraction                           14600.0\n",
       "Filling                               6500.0\n",
       "Filling + X Rays                      2600.0\n",
       "Injection                             1800.0\n",
       "Laboratory Test                          NaN\n",
       "Medicine                               100.0\n",
       "Operation                            50000.0\n",
       "Orthodontics                        240000.0\n",
       "Pharmacy                               900.0\n",
       "Polishing                              500.0\n",
       "Pop                                   3700.0\n",
       "R.C.T                                15500.0\n",
       "R.C.T+Crown                           8000.0\n",
       "R.C.T+Scalling+Crown                  9500.0\n",
       "R.P.D + Crown                        11000.0\n",
       "RCT                                   3000.0\n",
       "RCT (4 teeth) Bridge (9 teeth)       48000.0\n",
       "Scalling                             16500.0\n",
       "Scalling+Polishing                    4000.0\n",
       "Stiches                                700.0\n",
       "USG                                   5500.0\n",
       "USG Abdomen                           1000.0\n",
       "USG KUB                               1000.0\n",
       "X Ray                                 5800.0"
      ]
     },
     "execution_count": 9,
     "metadata": {},
     "output_type": "execute_result"
    }
   ],
   "source": [
    "#Question 7\n",
    "\n",
    "data2 = [data.Procedure,data.TotalCharges]\n",
    "data2 = pd.DataFrame(data2)\n",
    "data2 = data2.transpose()\n",
    "data2['TotalCharges']=pd.to_numeric(data2['TotalCharges'],errors='coerce')\n",
    "data2.groupby(data2.Procedure).sum()"
   ]
  },
  {
   "cell_type": "code",
   "execution_count": 10,
   "metadata": {
    "collapsed": false
   },
   "outputs": [
    {
     "name": "stdout",
     "output_type": "stream",
     "text": [
      "9.0      2\n",
      "23.0     2\n",
      "22.0     4\n",
      "21.0     5\n",
      "10.0     6\n",
      "20.0     8\n",
      "11.0    10\n",
      "19.0    14\n",
      "16.0    15\n",
      "17.0    16\n",
      "15.0    20\n",
      "14.0    20\n",
      "12.0    20\n",
      "18.0    23\n",
      "13.0    29\n",
      "Name: Time, dtype: int64\n"
     ]
    }
   ],
   "source": [
    "#Question 8\n",
    "\n",
    "a=pd.to_datetime(data[\"Time\"],errors='coerce')\n",
    "print((a.dt.hour.value_counts()).sort_values())"
   ]
  },
  {
   "cell_type": "code",
   "execution_count": 11,
   "metadata": {
    "collapsed": false
   },
   "outputs": [
    {
     "data": {
      "text/plain": [
       "['Morning',\n",
       " 'Morning',\n",
       " 'Morning',\n",
       " 'Afternoon',\n",
       " 'Afternoon',\n",
       " 'Afternoon',\n",
       " 'Afternoon',\n",
       " 'Afternoon',\n",
       " 'Afternoon',\n",
       " 'Evening',\n",
       " 'Evening',\n",
       " 'Evening',\n",
       " 'Afternoon',\n",
       " 'Afternoon',\n",
       " 'Evening',\n",
       " 'Night',\n",
       " 'Morning',\n",
       " 'Night',\n",
       " 'Night',\n",
       " 'Morning',\n",
       " 'Afternoon',\n",
       " 'Afternoon',\n",
       " 'Morning',\n",
       " 'Afternoon',\n",
       " 'Afternoon',\n",
       " 'NaT',\n",
       " 'Night',\n",
       " 'NaT',\n",
       " 'Morning',\n",
       " 'Afternoon',\n",
       " 'Afternoon',\n",
       " 'Afternoon',\n",
       " 'Evening',\n",
       " 'Evening',\n",
       " 'Afternoon',\n",
       " 'Evening',\n",
       " 'NaT',\n",
       " 'NaT',\n",
       " 'Afternoon',\n",
       " 'Afternoon',\n",
       " 'Afternoon',\n",
       " 'Morning',\n",
       " 'Afternoon',\n",
       " 'Afternoon',\n",
       " 'Morning',\n",
       " 'Afternoon',\n",
       " 'Night',\n",
       " 'Afternoon',\n",
       " 'Evening',\n",
       " 'Night',\n",
       " 'NaT',\n",
       " 'Afternoon',\n",
       " 'Evening',\n",
       " 'Evening',\n",
       " 'Morning',\n",
       " 'Morning',\n",
       " 'Afternoon',\n",
       " 'Afternoon',\n",
       " 'Evening',\n",
       " 'Night',\n",
       " 'Morning',\n",
       " 'Afternoon',\n",
       " 'Evening',\n",
       " 'NaT',\n",
       " 'Morning',\n",
       " 'NaT',\n",
       " 'NaT',\n",
       " 'NaT',\n",
       " 'Morning',\n",
       " 'Afternoon',\n",
       " 'Afternoon',\n",
       " 'Morning',\n",
       " 'Afternoon',\n",
       " 'Afternoon',\n",
       " 'Afternoon',\n",
       " 'Afternoon',\n",
       " 'Afternoon',\n",
       " 'Afternoon',\n",
       " 'Afternoon',\n",
       " 'NaT',\n",
       " 'NaT',\n",
       " 'Morning',\n",
       " 'Afternoon',\n",
       " 'Evening',\n",
       " 'NaT',\n",
       " 'NaT',\n",
       " 'NaT',\n",
       " 'NaT',\n",
       " 'Evening',\n",
       " 'Night',\n",
       " 'NaT',\n",
       " 'Afternoon',\n",
       " 'Afternoon',\n",
       " 'Evening',\n",
       " 'Evening',\n",
       " 'Evening',\n",
       " 'Evening',\n",
       " 'Evening',\n",
       " 'Evening',\n",
       " 'Afternoon',\n",
       " 'Afternoon',\n",
       " 'Afternoon',\n",
       " 'Afternoon',\n",
       " 'Evening',\n",
       " 'Morning',\n",
       " 'Afternoon',\n",
       " 'Afternoon',\n",
       " 'Afternoon',\n",
       " 'Night',\n",
       " 'Afternoon',\n",
       " 'Afternoon',\n",
       " 'Evening',\n",
       " 'Evening',\n",
       " 'Afternoon',\n",
       " 'Afternoon',\n",
       " 'Afternoon',\n",
       " 'Evening',\n",
       " 'Morning',\n",
       " 'Afternoon',\n",
       " 'Afternoon',\n",
       " 'Evening',\n",
       " 'Night',\n",
       " 'Morning',\n",
       " 'Morning',\n",
       " 'Morning',\n",
       " 'Afternoon',\n",
       " 'Afternoon',\n",
       " 'Afternoon',\n",
       " 'Morning',\n",
       " 'Morning',\n",
       " 'Evening',\n",
       " 'Evening',\n",
       " 'Morning',\n",
       " 'Afternoon',\n",
       " 'Evening',\n",
       " 'Evening',\n",
       " 'Evening',\n",
       " 'Morning',\n",
       " 'Morning',\n",
       " 'Afternoon',\n",
       " 'Evening',\n",
       " 'NaT',\n",
       " 'Afternoon',\n",
       " 'Afternoon',\n",
       " 'Evening',\n",
       " 'Morning',\n",
       " 'Afternoon',\n",
       " 'Evening',\n",
       " 'Afternoon',\n",
       " 'Evening',\n",
       " 'Evening',\n",
       " 'Evening',\n",
       " 'Evening',\n",
       " 'Morning',\n",
       " 'Afternoon',\n",
       " 'NaT',\n",
       " 'Afternoon',\n",
       " 'Afternoon',\n",
       " 'Evening',\n",
       " 'Night',\n",
       " 'Afternoon',\n",
       " 'Evening',\n",
       " 'Evening',\n",
       " 'Night',\n",
       " 'NaT',\n",
       " 'Afternoon',\n",
       " 'Afternoon',\n",
       " 'Evening',\n",
       " 'Afternoon',\n",
       " 'Afternoon',\n",
       " 'Afternoon',\n",
       " 'Afternoon',\n",
       " 'Night',\n",
       " 'Afternoon',\n",
       " 'Afternoon',\n",
       " 'Morning',\n",
       " 'Morning',\n",
       " 'NaT',\n",
       " 'Night',\n",
       " 'Morning',\n",
       " 'NaT',\n",
       " 'Afternoon',\n",
       " 'Night',\n",
       " 'Evening',\n",
       " 'Evening',\n",
       " 'NaT',\n",
       " 'Evening',\n",
       " 'Evening',\n",
       " 'Morning',\n",
       " 'Afternoon',\n",
       " 'Evening',\n",
       " 'NaT',\n",
       " 'Morning',\n",
       " 'Morning',\n",
       " 'Afternoon',\n",
       " 'Afternoon',\n",
       " 'Evening',\n",
       " 'Afternoon',\n",
       " 'NaT',\n",
       " 'Afternoon',\n",
       " 'Evening',\n",
       " 'Evening',\n",
       " 'NaT',\n",
       " 'Afternoon',\n",
       " 'NaT',\n",
       " 'Evening',\n",
       " 'Afternoon',\n",
       " 'Night',\n",
       " 'Night',\n",
       " 'Night',\n",
       " 'Afternoon',\n",
       " 'Evening',\n",
       " 'Morning',\n",
       " 'Evening',\n",
       " 'Morning',\n",
       " 'Morning',\n",
       " 'NaT',\n",
       " 'NaT',\n",
       " 'Afternoon',\n",
       " 'Evening',\n",
       " 'Morning',\n",
       " 'Night']"
      ]
     },
     "execution_count": 11,
     "metadata": {},
     "output_type": "execute_result"
    }
   ],
   "source": [
    "#Question 9\n",
    "\n",
    "d = pd.to_datetime(data[\"Time\"],errors='coerce')\n",
    "daytime = []\n",
    "for i in range(len(data.Time)):\n",
    "    if d.dt.hour[i] >= 6.0 and d.dt.hour[i] <= 12.0:\n",
    "        daytime.insert(i,\"Morning\")\n",
    "    elif d.dt.hour[i] > 12.0 and d.dt.hour[i] <= 16.0:\n",
    "        daytime.insert(i,\"Afternoon\");\n",
    "    elif d.dt.hour[i] > 16.0 and d.dt.hour[i] <= 19.0:\n",
    "        daytime.insert(i,\"Evening\");\n",
    "    elif d.dt.hour[i] > 19.0:\n",
    "        daytime.insert(i,\"Night\");\n",
    "    else:\n",
    "        daytime.insert(i,\"NaT\")\n",
    "data.daytime = daytime\n",
    "data.daytime"
   ]
  },
  {
   "cell_type": "code",
   "execution_count": 12,
   "metadata": {
    "collapsed": false
   },
   "outputs": [
    {
     "name": "stdout",
     "output_type": "stream",
     "text": [
      "37\n"
     ]
    }
   ],
   "source": [
    "#Question 10\n",
    "\n",
    "count_visits = data.id.value_counts()\n",
    "\n",
    "count_visits = count_visits[count_visits>1]\n",
    "print(len(count_visits))"
   ]
  },
  {
   "cell_type": "code",
   "execution_count": 13,
   "metadata": {
    "collapsed": false
   },
   "outputs": [
    {
     "name": "stdout",
     "output_type": "stream",
     "text": [
      "1      12\n",
      "46      5\n",
      "122     5\n",
      "140     4\n",
      "94      4\n",
      "17      4\n",
      "45      3\n",
      "101     3\n",
      "63      3\n",
      "132     3\n",
      "114     3\n",
      "109     3\n",
      "107     3\n",
      "145     3\n",
      "20      2\n",
      "97      2\n",
      "59      2\n",
      "88      2\n",
      "96      2\n",
      "112     2\n",
      "116     2\n",
      "118     2\n",
      "25      2\n",
      "80      2\n",
      "120     2\n",
      "40      2\n",
      "100     2\n",
      "64      2\n",
      "4       2\n",
      "133     2\n",
      "12      2\n",
      "13      2\n",
      "150     2\n",
      "149     2\n",
      "151     2\n",
      "130     2\n",
      "153     2\n",
      "Name: id, dtype: int64\n"
     ]
    }
   ],
   "source": [
    "#Question 11\n",
    "\n",
    "print (count_visits)"
   ]
  },
  {
   "cell_type": "code",
   "execution_count": 14,
   "metadata": {
    "collapsed": false
   },
   "outputs": [
    {
     "data": {
      "text/plain": [
       "id   Procedure                     \n",
       "1    Pharmacy                          10\n",
       "12   22 Unit Bridge                     2\n",
       "13   Consultation                       2\n",
       "17   Consultation                       2\n",
       "     RCT (4 teeth) Bridge (9 teeth)     2\n",
       "20   Consultation                       2\n",
       "25   Consultation                       2\n",
       "45   R.P.D + Crown                      2\n",
       "46   Dressing                           4\n",
       "63   Consultation                       2\n",
       "80   Consultation                       2\n",
       "94   Injection                          3\n",
       "97   Consultation                       2\n",
       "101  C Section                          2\n",
       "109  R.C.T                              2\n",
       "112  Operation                          2\n",
       "114  Consultation                       3\n",
       "116  X Ray                              2\n",
       "122  Injection                          5\n",
       "130  Consultation                       2\n",
       "140  4 Unit Bridge                      2\n",
       "145  Crown                              3\n",
       "151  R.C.T+Scalling+Crown               2\n",
       "153  Orthodontics                       2\n",
       "dtype: int64"
      ]
     },
     "execution_count": 14,
     "metadata": {},
     "output_type": "execute_result"
    }
   ],
   "source": [
    "#Question 12\n",
    "\n",
    "patient = data.groupby([\"id\",\"Procedure\"]).size()\n",
    "patient = patient[patient>1]\n",
    "patient"
   ]
  },
  {
   "cell_type": "code",
   "execution_count": 15,
   "metadata": {
    "collapsed": false
   },
   "outputs": [
    {
     "name": "stdout",
     "output_type": "stream",
     "text": [
      "Male median: \n",
      "27.0\n",
      "Female median: \n",
      "30.0\n"
     ]
    }
   ],
   "source": [
    "#Question 13\n",
    "\n",
    "print(\"Male median: \")\n",
    "print(data.Age[data.Sex == 'M'].median())\n",
    "print(\"Female median: \")\n",
    "print(data.Age[data.Sex == 'F'].median())"
   ]
  },
  {
   "cell_type": "code",
   "execution_count": 16,
   "metadata": {
    "collapsed": false
   },
   "outputs": [
    {
     "ename": "NameError",
     "evalue": "name 'np' is not defined",
     "output_type": "error",
     "traceback": [
      "\u001b[0;31m---------------------------------------------------------------------------\u001b[0m",
      "\u001b[0;31mNameError\u001b[0m                                 Traceback (most recent call last)",
      "\u001b[0;32m<ipython-input-16-c69fb54641bc>\u001b[0m in \u001b[0;36m<module>\u001b[0;34m()\u001b[0m\n\u001b[1;32m      1\u001b[0m \u001b[1;31m#Question 14\u001b[0m\u001b[1;33m\u001b[0m\u001b[1;33m\u001b[0m\u001b[0m\n\u001b[1;32m      2\u001b[0m \u001b[1;33m\u001b[0m\u001b[0m\n\u001b[0;32m----> 3\u001b[0;31m \u001b[0mdata\u001b[0m\u001b[1;33m.\u001b[0m\u001b[0mreplace\u001b[0m\u001b[1;33m(\u001b[0m\u001b[0mto_replace\u001b[0m \u001b[1;33m=\u001b[0m \u001b[0mdata\u001b[0m\u001b[1;33m.\u001b[0m\u001b[0mAmountBalance\u001b[0m\u001b[1;33m.\u001b[0m\u001b[0munique\u001b[0m\u001b[1;33m(\u001b[0m\u001b[1;33m)\u001b[0m\u001b[1;33m[\u001b[0m\u001b[1;36m0\u001b[0m\u001b[1;33m]\u001b[0m\u001b[1;33m,\u001b[0m \u001b[0mvalue\u001b[0m\u001b[1;33m=\u001b[0m\u001b[0mnp\u001b[0m\u001b[1;33m.\u001b[0m\u001b[0mnan\u001b[0m\u001b[1;33m,\u001b[0m \u001b[0minplace\u001b[0m\u001b[1;33m=\u001b[0m\u001b[1;32mTrue\u001b[0m\u001b[1;33m)\u001b[0m\u001b[1;33m\u001b[0m\u001b[0m\n\u001b[0m\u001b[1;32m      4\u001b[0m \u001b[0mdata\u001b[0m\u001b[1;33m.\u001b[0m\u001b[0mAmountBalance\u001b[0m\u001b[1;33m=\u001b[0m\u001b[0mdata\u001b[0m\u001b[1;33m.\u001b[0m\u001b[0mAmountBalance\u001b[0m\u001b[1;33m.\u001b[0m\u001b[0mmap\u001b[0m\u001b[1;33m(\u001b[0m\u001b[1;32mlambda\u001b[0m \u001b[0mx\u001b[0m\u001b[1;33m:\u001b[0m \u001b[0mstr\u001b[0m\u001b[1;33m(\u001b[0m\u001b[0mx\u001b[0m\u001b[1;33m)\u001b[0m\u001b[1;33m.\u001b[0m\u001b[0mreplace\u001b[0m\u001b[1;33m(\u001b[0m\u001b[1;34m','\u001b[0m\u001b[1;33m,\u001b[0m\u001b[1;34m''\u001b[0m\u001b[1;33m)\u001b[0m\u001b[1;33m)\u001b[0m\u001b[1;33m\u001b[0m\u001b[0m\n\u001b[1;32m      5\u001b[0m \u001b[0mdata\u001b[0m\u001b[1;33m.\u001b[0m\u001b[0mAmountBalance\u001b[0m \u001b[1;33m=\u001b[0m \u001b[0mdata\u001b[0m\u001b[1;33m.\u001b[0m\u001b[0mAmountBalance\u001b[0m\u001b[1;33m.\u001b[0m\u001b[0mastype\u001b[0m\u001b[1;33m(\u001b[0m\u001b[0mfloat\u001b[0m\u001b[1;33m)\u001b[0m\u001b[1;33m\u001b[0m\u001b[0m\n",
      "\u001b[0;31mNameError\u001b[0m: name 'np' is not defined"
     ]
    }
   ],
   "source": [
    "#Question 14\n",
    "\n",
    "data.replace(to_replace = data.AmountBalance.unique()[0], value=np.nan, inplace=True)\n",
    "data.AmountBalance=data.AmountBalance.map(lambda x: str(x).replace(',',''))\n",
    "data.AmountBalance = data.AmountBalance.astype(float)\n",
    "print(data.AmountBalance.sum())"
   ]
  },
  {
   "cell_type": "code",
   "execution_count": 17,
   "metadata": {
    "collapsed": false
   },
   "outputs": [
    {
     "data": {
      "text/plain": [
       "83950.0"
      ]
     },
     "execution_count": 17,
     "metadata": {},
     "output_type": "execute_result"
    }
   ],
   "source": [
    "#Question 15\n",
    "\n",
    "data.TotalCharges = pd.to_numeric(data.TotalCharges, errors = 'coerce')\n",
    "data.TotalCharges[data.Procedure == \"Consultation\"].sum()"
   ]
  },
  {
   "cell_type": "code",
   "execution_count": 18,
   "metadata": {
    "collapsed": false
   },
   "outputs": [
    {
     "data": {
      "text/html": [
       "<div>\n",
       "<table border=\"1\" class=\"dataframe\">\n",
       "  <thead>\n",
       "    <tr style=\"text-align: right;\">\n",
       "      <th></th>\n",
       "      <th>TotalCharges</th>\n",
       "    </tr>\n",
       "  </thead>\n",
       "  <tbody>\n",
       "    <tr>\n",
       "      <th>Age</th>\n",
       "      <td>0.056932</td>\n",
       "    </tr>\n",
       "  </tbody>\n",
       "</table>\n",
       "</div>"
      ],
      "text/plain": [
       "     TotalCharges\n",
       "Age      0.056932"
      ]
     },
     "execution_count": 18,
     "metadata": {},
     "output_type": "execute_result"
    }
   ],
   "source": [
    "#Question 16\n",
    "\n",
    "data.corr().loc[['Age'],['TotalCharges']]"
   ]
  },
  {
   "cell_type": "code",
   "execution_count": 19,
   "metadata": {
    "collapsed": false
   },
   "outputs": [
    {
     "data": {
      "image/png": "[encoded data removed]",
      "text/plain": [
       "<matplotlib.figure.Figure at 0x1d0b9ee60f0>"
      ]
     },
     "metadata": {},
     "output_type": "display_data"
    }
   ],
   "source": [
    "plt.plot(data.Age,data.TotalCharges)\n",
    "plt.show()"
   ]
  },
  {
   "cell_type": "code",
   "execution_count": 20,
   "metadata": {
    "collapsed": false
   },
   "outputs": [
    {
     "data": {
      "image/png": "[encoded data removed]",
      "text/plain": [
       "<matplotlib.figure.Figure at 0x1d0ba968c18>"
      ]
     },
     "metadata": {},
     "output_type": "display_data"
    }
   ],
   "source": [
    "#Question 17\n",
    "\n",
    "plt.hist(data.Age)\n",
    "plt.show()"
   ]
  },
  {
   "cell_type": "code",
   "execution_count": 21,
   "metadata": {
    "collapsed": false
   },
   "outputs": [
    {
     "data": {
      "text/plain": [
       "22300.0"
      ]
     },
     "execution_count": 21,
     "metadata": {},
     "output_type": "execute_result"
    }
   ],
   "source": [
    "#Question 18\n",
    "\n",
    "data.TotalCharges[(data.Procedure == \"X Ray\") | (data.Procedure == \"Scalling\")].sum()"
   ]
  },
  {
   "cell_type": "code",
   "execution_count": 22,
   "metadata": {
    "collapsed": true
   },
   "outputs": [],
   "source": [
    "data.to_csv('CleanData.csv')"
   ]
  },
  {
   "cell_type": "code",
   "execution_count": null,
   "metadata": {
    "collapsed": true
   },
   "outputs": [],
   "source": []
  }
 ],
 "metadata": {
  "kernelspec": {
   "display_name": "Python 3",
   "language": "python",
   "name": "python3"
  },
  "language_info": {
   "codemirror_mode": {
    "name": "ipython",
    "version": 3
   },
   "file_extension": ".py",
   "mimetype": "text/x-python",
   "name": "python",
   "nbconvert_exporter": "python",
   "pygments_lexer": "ipython3",
   "version": "3.6.0"
  }
 },
 "nbformat": 4,
 "nbformat_minor": 2
}
